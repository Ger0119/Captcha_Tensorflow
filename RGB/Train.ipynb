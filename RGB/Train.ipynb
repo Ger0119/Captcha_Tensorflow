{
 "cells": [
  {
   "cell_type": "code",
   "execution_count": 1,
   "id": "369bd789-8c57-49ef-9fef-0e0936ec6031",
   "metadata": {},
   "outputs": [],
   "source": [
    "import os\n",
    "import numpy as np\n",
    "import matplotlib.pyplot as plt\n",
    "import tensorflow as tf\n",
    "%matplotlib tk"
   ]
  },
  {
   "cell_type": "markdown",
   "id": "22e29dc5-5cca-40fe-9527-f13561c345c1",
   "metadata": {},
   "source": [
    "# Setup"
   ]
  },
  {
   "cell_type": "code",
   "execution_count": 2,
   "id": "299a1fea-a783-474b-a229-bb52ae3198ee",
   "metadata": {},
   "outputs": [],
   "source": [
    "number = [str(x) for x in range(10)]\n",
    "alphabet = [chr(x) for x in range(97, 97+26)]\n",
    "ALPHABET = [chr(x) for x in range(65, 65+26)]\n",
    "CHARS_SET = number + alphabet + ALPHABET\n",
    "CHARS_SET_LEN = len(CHARS_SET)\n",
    "\n",
    "HEIGHT = 60\n",
    "WIDTH = 160\n",
    "CHARS_NUM=4"
   ]
  },
  {
   "cell_type": "code",
   "execution_count": 3,
   "id": "b1d46af1-55a1-45d0-9c54-3b4786ec8ec7",
   "metadata": {},
   "outputs": [],
   "source": [
    "def text2vec(text):\n",
    "    vector = np.zeros([len(text),CHARS_SET_LEN])\n",
    "    for i,c in enumerate(text):\n",
    "        idx = CHARS_SET.index(c)\n",
    "        vector[i][idx] = 1\n",
    "    return vector\n",
    "\n",
    "def vec2text(vec):\n",
    "    text = []\n",
    "    for i, c in enumerate(vec):\n",
    "        text.append(CHARS_SET[np.argmax(c)])\n",
    "    return \"\".join(text)"
   ]
  },
  {
   "cell_type": "code",
   "execution_count": 4,
   "id": "6a03a733-365f-4aeb-b759-a796769749bf",
   "metadata": {},
   "outputs": [],
   "source": [
    "def mklabel(label):\n",
    "    labels = np.zeros([label.shape[0],4,CHARS_SET_LEN])\n",
    "    for i,c in enumerate(label):\n",
    "        labels[i] = text2vec(c.decode())\n",
    "    return tf.constant(labels)"
   ]
  },
  {
   "cell_type": "code",
   "execution_count": 5,
   "id": "c9cc9393-ad33-411d-886f-56bfd15a1a1f",
   "metadata": {},
   "outputs": [],
   "source": [
    "image_feature_description={\n",
    "    \"Label\" : tf.io.FixedLenFeature([],tf.string),\n",
    "    \"Image_raw\" : tf.io.FixedLenFeature([],tf.string),\n",
    "}\n",
    "\n",
    "def parse_tf_example(example):\n",
    "    parse_example = tf.io.parse_single_example(example,image_feature_description)\n",
    "    image = tf.io.decode_raw(parse_example[\"Image_raw\"],tf.uint8) \n",
    "    image = tf.reshape(image,(HEIGHT,WIDTH,3))\n",
    "    label = parse_example[\"Label\"]\n",
    "    \n",
    "    return label,image"
   ]
  },
  {
   "cell_type": "markdown",
   "id": "5e161c89-cf0e-4414-b0d9-20bfa90c6176",
   "metadata": {},
   "source": [
    "# Check TFRecord"
   ]
  },
  {
   "cell_type": "code",
   "execution_count": 6,
   "id": "c779ea01-b0a4-4973-992f-be04896b2c0c",
   "metadata": {},
   "outputs": [],
   "source": [
    "raw_data = tf.data.TFRecordDataset(\"train.tfrecord\")\n",
    "dataset = raw_data.map(parse_tf_example)\n",
    "data_ds = dataset.shuffle(buffer_size=1000).batch(10)"
   ]
  },
  {
   "cell_type": "code",
   "execution_count": 7,
   "id": "bea1038f-70e2-476d-9fc7-c03f8c3b3fe5",
   "metadata": {},
   "outputs": [
    {
     "name": "stdout",
     "output_type": "stream",
     "text": [
      "(10, 60, 160, 3)\n"
     ]
    }
   ],
   "source": [
    "for batch,(x,y) in enumerate(data_ds):\n",
    "    labels = mklabel(x.numpy())\n",
    "    print(y.shape)\n",
    "    break"
   ]
  },
  {
   "cell_type": "code",
   "execution_count": 8,
   "id": "0e02312a-a15b-460e-ae3d-deb4a8ab7034",
   "metadata": {},
   "outputs": [
    {
     "data": {
      "text/plain": [
       "TensorShape([10, 4, 62])"
      ]
     },
     "execution_count": 8,
     "metadata": {},
     "output_type": "execute_result"
    }
   ],
   "source": [
    "labels.shape"
   ]
  },
  {
   "cell_type": "code",
   "execution_count": 9,
   "id": "ec88488d-10eb-4aae-94a3-5dc7ef6ddce0",
   "metadata": {},
   "outputs": [
    {
     "data": {
      "text/plain": [
       "<tf.Tensor: shape=(10,), dtype=string, numpy=\n",
       "array([b'9bvf', b'P805', b'5xrp', b'yOYM', b'XsO4', b'dWqT', b'7iuW',\n",
       "       b'0jnA', b'QtoS', b'rIyQ'], dtype=object)>"
      ]
     },
     "execution_count": 9,
     "metadata": {},
     "output_type": "execute_result"
    }
   ],
   "source": [
    "x"
   ]
  },
  {
   "cell_type": "code",
   "execution_count": 10,
   "id": "7c664403-c46a-492b-85f4-33d53cee1b6d",
   "metadata": {},
   "outputs": [
    {
     "data": {
      "text/plain": [
       "array(['9bvf', 'P805', '5xrp', 'yOYM', 'XsO4', 'dWqT', '7iuW', '0jnA',\n",
       "       'QtoS', 'rIyQ'], dtype='<U4')"
      ]
     },
     "execution_count": 10,
     "metadata": {},
     "output_type": "execute_result"
    }
   ],
   "source": [
    "lst = []\n",
    "for i in labels:\n",
    "    lst.append(vec2text(i))\n",
    "np.asarray(lst)"
   ]
  },
  {
   "cell_type": "markdown",
   "id": "68755d44-b2eb-4336-b8a8-e0c6c9675c12",
   "metadata": {},
   "source": [
    "# Make Model"
   ]
  },
  {
   "cell_type": "code",
   "execution_count": 11,
   "id": "9b21d06e-3635-461d-ab49-ee490057cf43",
   "metadata": {},
   "outputs": [],
   "source": [
    "# model = tf.keras.Sequential()\n",
    "\n",
    "# model.add(tf.keras.layers.Conv2D(32, (3, 3)))\n",
    "# model.add(tf.keras.layers.PReLU())\n",
    "# model.add(tf.keras.layers.MaxPool2D((2, 2), strides=2))\n",
    "\n",
    "# model.add(tf.keras.layers.Conv2D(64, (5, 5)))\n",
    "# model.add(tf.keras.layers.PReLU())\n",
    "# model.add(tf.keras.layers.MaxPool2D((2, 2), strides=2))\n",
    "\n",
    "# model.add(tf.keras.layers.Conv2D(128, (5, 5)))\n",
    "# model.add(tf.keras.layers.PReLU())\n",
    "# model.add(tf.keras.layers.MaxPool2D((2, 2), strides=2))\n",
    "\n",
    "# model.add(tf.keras.layers.Flatten())\n",
    "# model.add(tf.keras.layers.Dense(4 * CHARS_SET_LEN))\n",
    "# model.add(tf.keras.layers.Reshape([4, CHARS_SET_LEN]))\n",
    "# model.add(tf.keras.layers.Softmax())\n",
    "\n",
    "# model.build(input_shape=[None,60,160,1])\n",
    "# model.compile(optimizer='Adam',\n",
    "#                   metrics=['accuracy'],\n",
    "#                   loss='categorical_crossentropy')\n",
    "\n",
    "# model.save(\"model\")"
   ]
  },
  {
   "cell_type": "markdown",
   "id": "df308959-f852-4712-8927-692507eb3c79",
   "metadata": {},
   "source": [
    "# Load Model"
   ]
  },
  {
   "cell_type": "code",
   "execution_count": 12,
   "id": "0cc7cb3a-67d3-4513-9269-f8b4667be943",
   "metadata": {},
   "outputs": [],
   "source": [
    "model = tf.keras.models.load_model(\"./model\")"
   ]
  },
  {
   "cell_type": "markdown",
   "id": "1024068a-085d-466c-b992-2d95ef38407f",
   "metadata": {},
   "source": [
    "# Train"
   ]
  },
  {
   "cell_type": "code",
   "execution_count": 13,
   "id": "1688d3d0-76cd-48bf-a3af-0ac6bf9b4bc2",
   "metadata": {
    "scrolled": true,
    "tags": []
   },
   "outputs": [
    {
     "name": "stdout",
     "output_type": "stream",
     "text": [
      "Epoch 1/5\n",
      "16/16 [==============================] - 6s 354ms/step - loss: 2.1746 - accuracy: 0.6540\n",
      "Epoch 2/5\n",
      "16/16 [==============================] - 6s 350ms/step - loss: 2.0415 - accuracy: 0.6365\n",
      "Epoch 3/5\n",
      "16/16 [==============================] - 6s 357ms/step - loss: 0.9210 - accuracy: 0.8275\n",
      "Epoch 4/5\n",
      "16/16 [==============================] - 6s 357ms/step - loss: 0.3172 - accuracy: 0.9145\n",
      "Epoch 5/5\n",
      "16/16 [==============================] - 6s 386ms/step - loss: 0.0935 - accuracy: 0.9775\n",
      "Epoch 1/5\n",
      "16/16 [==============================] - 6s 373ms/step - loss: 1.5721 - accuracy: 0.7150\n",
      "Epoch 2/5\n",
      "16/16 [==============================] - 6s 381ms/step - loss: 0.5168 - accuracy: 0.8610\n",
      "Epoch 3/5\n",
      "16/16 [==============================] - 6s 368ms/step - loss: 0.1408 - accuracy: 0.9605\n",
      "Epoch 4/5\n",
      "16/16 [==============================] - 6s 380ms/step - loss: 0.0404 - accuracy: 0.9910\n",
      "Epoch 5/5\n",
      "16/16 [==============================] - 6s 374ms/step - loss: 0.0123 - accuracy: 0.9995\n"
     ]
    }
   ],
   "source": [
    "raw_data = tf.data.TFRecordDataset(\"train.tfrecord\")\n",
    "dataset = raw_data.map(parse_tf_example)\n",
    "data_ds = dataset.shuffle(buffer_size=1000).batch(500)\n",
    "\n",
    "for batch,(x,y) in enumerate(data_ds):\n",
    "    label = mklabel(x.numpy())\n",
    "    model.fit(y,label,epochs=5)"
   ]
  },
  {
   "cell_type": "code",
   "execution_count": 14,
   "id": "a3ae22b6-7a52-4db1-bdcd-cbbbed05d54e",
   "metadata": {},
   "outputs": [],
   "source": [
    "# model.save(\"model\")"
   ]
  },
  {
   "cell_type": "markdown",
   "id": "26fa0a29-180d-4431-af60-d86efae31215",
   "metadata": {},
   "source": [
    "# Test"
   ]
  },
  {
   "cell_type": "code",
   "execution_count": 15,
   "id": "dd65c736-0361-4006-82ec-fe5f3b6e3e53",
   "metadata": {},
   "outputs": [
    {
     "name": "stdout",
     "output_type": "stream",
     "text": [
      "final:0.775\n"
     ]
    }
   ],
   "source": [
    "raw_data = tf.data.TFRecordDataset(\"test.tfrecord\")\n",
    "dataset = raw_data.map(parse_tf_example)\n",
    "data_ds = dataset.shuffle(buffer_size=1000).batch(100)\n",
    "\n",
    "lst = []\n",
    "\n",
    "for i, (label, image) in enumerate(data_ds):\n",
    "    labels = mklabel(label.numpy())\n",
    "    \n",
    "    pre = model.predict(image)\n",
    "    pre_label = list(map(vec2text, pre))\n",
    "\n",
    "    true_label = list(map(lambda x: x.decode(), label.numpy()))\n",
    "\n",
    "    p = 0\n",
    "    for i in range(len(pre_label)):\n",
    "        for j in range(4):\n",
    "            if pre_label[i][j] == true_label[i][j]:\n",
    "                p += 1\n",
    "    # print(\"{:.3f}\".format(p / (4 * len(pre_label))))\n",
    "    lst.append(p / (4 * len(pre_label)))\n",
    "\n",
    "print(\"final:{}\".format(np.array(lst,dtype=float).mean()))"
   ]
  },
  {
   "cell_type": "code",
   "execution_count": 16,
   "id": "06518980-2a40-4edf-bd23-db35acf8a3d6",
   "metadata": {},
   "outputs": [
    {
     "data": {
      "text/plain": [
       "(array(['BPTK', '2oce', 'h7A9', '6im2', 'ABFt', 'rntW', 'bLVo', 'zh73',\n",
       "        '09yW', 'wWp7', 'kaTJ', '0HfZ', 'D8q2', 'jm9W', 'uXXQ', 'XqNY',\n",
       "        'N0y7', 'jnXC', 'Z0Ki', 'EfBz', '1all', 'CpS6', 'lUNK', 'dY6f',\n",
       "        '37uF', 'L1IY', '8AIP', 'Yhvd', 'Wowd', '11zL', 'K64t', 'DJ4Y',\n",
       "        'OXLp', 'fsU9', 'Wh24', 'EfDW', 'Ssuv', 'Lcs3', 'pA7I', 'Dq7P',\n",
       "        'v8MN', 'CBfx', 'tXVu', 'ITLw', 'y4t1', 'Gb6y', 'BVO5', 'Gk4V',\n",
       "        '9zhP', '4mvl', 'fDs0', '6ZU3', 'cmFe', 'DIfg', 'XMMS', 'vgJ9',\n",
       "        '5FBj', 'M4qs', 'Qnh8', '0CmN', 'H4pp', 'Y5cL', '9F3S', 'wlNb',\n",
       "        '02ez', 'Vxb0', 'WCRR', '6eez', 'gka3', 'Jpps', 'G3CK', 'kUx0',\n",
       "        '5lXx', 'r2GV', '9Sjw', 'v6oS', 'JSS3', 'ZTVb', '699F', 'nwwR',\n",
       "        'JyiQ', 'mYn1', 'ATQ0', '5PJl', 'G33T', 'SkkO', 'mI0e', 'ZtCk',\n",
       "        'Lovd', 'NIZa', 'Cdds', 'UnIJ', 'LnIB', '4Eus', '8rbf', '9bnh',\n",
       "        'qkDW', 'EJyT', 'LzzZ', 'haZs'], dtype='<U4'),\n",
       " array(['BPTK', '3Cae', 'h7A9', '6im2', 'ABkt', 'nVtW', 'bLvo', 'zh73',\n",
       "        '09yW', 'wWp7', 'kajJ', '0HfZ', 'oBq2', 'jm9W', 'uXyQ', 'xqNY',\n",
       "        'NOy7', 'jnxC', 'Z7Ki', 'EfBZ', '1aIl', 'CpjS', 'IUNK', 'dC3f',\n",
       "        '37vF', 'L1IY', '8RIP', 'Yhvd', 'Wowd', '1YzL', 'K61t', 'DJ4Y',\n",
       "        'OXCp', 'f5J9', 'Wh24', 'EfDW', 'STuV', 'Lcs3', 'pA7I', 'Dq7P',\n",
       "        'v8Mw', 'CHfx', 'txVu', 'TLWw', 'y4t1', 'Gb6y', 'BVO5', 'Gk4V',\n",
       "        '9ZhP', '4xkl', 'tDsO', '67U3', 'cmFe', 'DIfg', 'XMlS', 'VgJ9',\n",
       "        '5F8j', 'M4qs', 'Qnb8', '0Cim', 'H4vp', 'Y5CU', '9Fl3', 'wlNb',\n",
       "        'O2ez', 'Vxb0', 'WIcR', '6oez', 'gka3', 'JCps', 'GJCK', 'kux0',\n",
       "        '5ldX', 'r2GV', '9sjw', 'V6oS', 'JtS3', 'ZTvb', '6i9F', 'nw7R',\n",
       "        'JyiQ', 'mYKn', 'kj2G', '5PJl', 'Gj3r', '5kpO', 'mI0e', 'ZtCk',\n",
       "        'Lozd', 'NIZa', 'cdGs', 'QrIJ', 'LnIB', '4Fus', '8rbf', '9bnh',\n",
       "        'qkoW', 'EyNT', 'Lz2Z', 'hazs'], dtype='<U4'))"
      ]
     },
     "execution_count": 16,
     "metadata": {},
     "output_type": "execute_result"
    }
   ],
   "source": [
    "np.asarray(pre_label),np.asarray(true_label)"
   ]
  },
  {
   "cell_type": "code",
   "execution_count": 17,
   "id": "ac3e5414-5d15-4e6a-b79f-946769893d67",
   "metadata": {},
   "outputs": [],
   "source": [
    "fig, ax = plt.subplots(10, 5)\n",
    "for i in range(10):\n",
    "    for j in range(5):\n",
    "        tar = i * 10 + j\n",
    "        ax[i][j].imshow(image[tar, ..., 0].numpy())\n",
    "        color = \"blue\" if pre_label[tar] == true_label[tar] else \"red\"\n",
    "        ax[i][j].set_title(f\"True: {true_label[tar]}\")\n",
    "        ax[i][j].set_ylabel(pre_label[tar], color=color)"
   ]
  },
  {
   "cell_type": "code",
   "execution_count": null,
   "id": "d9ae6dea-9815-429b-a04d-11a97b98283c",
   "metadata": {},
   "outputs": [],
   "source": []
  }
 ],
 "metadata": {
  "kernelspec": {
   "display_name": "Python 3 (ipykernel)",
   "language": "python",
   "name": "python3"
  },
  "language_info": {
   "codemirror_mode": {
    "name": "ipython",
    "version": 3
   },
   "file_extension": ".py",
   "mimetype": "text/x-python",
   "name": "python",
   "nbconvert_exporter": "python",
   "pygments_lexer": "ipython3",
   "version": "3.8.12"
  }
 },
 "nbformat": 4,
 "nbformat_minor": 5
}
