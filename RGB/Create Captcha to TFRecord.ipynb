{
 "cells": [
  {
   "cell_type": "code",
   "execution_count": 1,
   "id": "3682cbe2-1705-476d-8bff-950b71cdf5ba",
   "metadata": {},
   "outputs": [],
   "source": [
    "from captcha.image import ImageCaptcha\n",
    "import random\n",
    "from PIL import Image\n",
    "import matplotlib.pyplot as plt\n",
    "from concurrent.futures import ThreadPoolExecutor\n",
    "import tensorflow as tf\n",
    "import os\n",
    "import numpy as np"
   ]
  },
  {
   "cell_type": "markdown",
   "id": "ad9c21ff-d34d-4b81-a596-76f07c6831ce",
   "metadata": {},
   "source": [
    "# Setup"
   ]
  },
  {
   "cell_type": "code",
   "execution_count": 2,
   "id": "57684b12-eb75-44b8-b900-e38742fbf37c",
   "metadata": {},
   "outputs": [],
   "source": [
    "number = [str(x) for x in range(10)]\n",
    "alphabet = [chr(x) for x in range(97, 97+26)]\n",
    "ALPHABET = [chr(x) for x in range(65, 65+26)]\n",
    "CHARS_SET = number + alphabet + ALPHABET\n",
    "CHARS_SET_LEN = len(CHARS_SET)\n",
    "\n",
    "HEIGHT = 60\n",
    "WIDTH = 160\n",
    "CHARS_NUM=4\n",
    "\n",
    "Captcha = ImageCaptcha(width=WIDTH,height=HEIGHT)"
   ]
  },
  {
   "cell_type": "markdown",
   "id": "d88473cb-9d15-4275-9d17-08160d2a9414",
   "metadata": {},
   "source": [
    "# Create Captcha"
   ]
  },
  {
   "cell_type": "code",
   "execution_count": 3,
   "id": "26f5b9cf-185a-4767-a2a9-bcdd569e71f5",
   "metadata": {},
   "outputs": [],
   "source": [
    "def Write_captcha(n,path=\"./train\"):\n",
    "    label = ''.join(random.sample(CHARS_SET,CHARS_NUM))\n",
    "    Captcha.write(label,f'{path}/{label}_{n}.png')"
   ]
  },
  {
   "cell_type": "code",
   "execution_count": 4,
   "id": "c152c54c-a07a-468c-8cfa-1621f4fc73dd",
   "metadata": {},
   "outputs": [
    {
     "data": {
      "image/png": "[encoded data removed]",
      "text/plain": [
       "<PIL.PngImagePlugin.PngImageFile image mode=RGB size=160x60 at 0x2359D278C10>"
      ]
     },
     "execution_count": 4,
     "metadata": {},
     "output_type": "execute_result"
    }
   ],
   "source": [
    "example = Captcha.generate(\"dlX4\")\n",
    "\n",
    "Image.open(example)"
   ]
  },
  {
   "cell_type": "code",
   "execution_count": 5,
   "id": "87d65da6-7cc3-462d-acef-bf1abf0c73be",
   "metadata": {},
   "outputs": [],
   "source": [
    "pool = ThreadPoolExecutor()\n",
    "for i in range(1000): \n",
    "    pool.submit(Write_captcha,i,\"./train\")\n",
    "pool.shutdown(wait=True)"
   ]
  },
  {
   "cell_type": "code",
   "execution_count": 6,
   "id": "747bf583-41f6-4819-b53a-a864ac49b6d6",
   "metadata": {},
   "outputs": [],
   "source": [
    "pool = ThreadPoolExecutor()\n",
    "for i in range(1000):\n",
    "    pool.submit(Write_captcha,i,\"./test\")\n",
    "pool.shutdown(wait=True)"
   ]
  },
  {
   "cell_type": "markdown",
   "id": "a14b4b8b-851e-4238-b958-9966e842b714",
   "metadata": {},
   "source": [
    "# To TFRecord"
   ]
  },
  {
   "cell_type": "markdown",
   "id": "03e2d772-858e-4772-9fbb-4dab197be0f0",
   "metadata": {},
   "source": [
    "## Setup"
   ]
  },
  {
   "cell_type": "code",
   "execution_count": 7,
   "id": "a57b4fb6-976f-4713-a0c9-eea46af4207d",
   "metadata": {},
   "outputs": [],
   "source": [
    "def _bytes_feature(value):\n",
    "    \"\"\"Returns a bytes_list from a string / byte.\"\"\"\n",
    "    if isinstance(value, type(tf.constant(0))):\n",
    "        value = value.numpy() # BytesList won't unpack a string from an EagerTensor.\n",
    "    return tf.train.Feature(bytes_list=tf.train.BytesList(value=[value]))\n",
    "\n",
    "def _float_feature(value):\n",
    "    \"\"\"Returns a float_list from a float / double.\"\"\"\n",
    "    return tf.train.Feature(float_list=tf.train.FloatList(value=[value]))\n",
    "\n",
    "def _int64_feature(value):\n",
    "    \"\"\"Returns an int64_list from a bool / enum / int / uint.\"\"\"\n",
    "    return tf.train.Feature(int64_list=tf.train.Int64List(value=[value]))"
   ]
  },
  {
   "cell_type": "code",
   "execution_count": 8,
   "id": "1ff7651b-25cc-47d7-9f64-62372d1b8e37",
   "metadata": {},
   "outputs": [],
   "source": [
    "def serialize(string,image):\n",
    "    feature = {\n",
    "      'Label': _bytes_feature(string.encode()),\n",
    "      'Image_raw': _bytes_feature(image.tobytes()),\n",
    "    }\n",
    "\n",
    "    proto = tf.train.Example(features=tf.train.Features(feature=feature))\n",
    "    return proto.SerializeToString()"
   ]
  },
  {
   "cell_type": "markdown",
   "id": "c7c3fa38-5a66-4bbb-aac6-3ce889dbf600",
   "metadata": {},
   "source": [
    "## Method 1"
   ]
  },
  {
   "cell_type": "code",
   "execution_count": 9,
   "id": "46f8a836-2001-4cac-8610-8cc47718b062",
   "metadata": {},
   "outputs": [],
   "source": [
    "def totfrecord1(name=\"train.tfrecord\",path=\"train\"):\n",
    "    with tf.io.TFRecordWriter(name) as writer:\n",
    "        for file in os.listdir(f\"{path}/\"):\n",
    "            label = file.split(\"_\")[0]\n",
    "            image_raw = Image.open(f\"{path}/{file}\")\n",
    "            proto = serialize(label,np.asarray(image_raw,dtype=np.uint8))\n",
    "            writer.write(proto)"
   ]
  },
  {
   "cell_type": "code",
   "execution_count": 10,
   "id": "68f90c04-3dc0-432e-bfb5-0a4b7b94ff11",
   "metadata": {},
   "outputs": [],
   "source": [
    "totfrecord1(\"train.tfrecord\",\"train\")"
   ]
  },
  {
   "cell_type": "code",
   "execution_count": 11,
   "id": "88f476bc-a5fa-473d-82a7-a0734bfa69ec",
   "metadata": {},
   "outputs": [],
   "source": [
    "totfrecord1(\"test.tfrecord\",\"test\")"
   ]
  },
  {
   "cell_type": "markdown",
   "id": "77e1b93d-9d0e-4461-85b5-e3895d106666",
   "metadata": {},
   "source": [
    "## Method 2"
   ]
  },
  {
   "cell_type": "code",
   "execution_count": 12,
   "id": "26aa304f-a5f3-4e6f-9c3c-0bda5339320c",
   "metadata": {},
   "outputs": [],
   "source": [
    "def Create_captcha():\n",
    "    label = ''.join(random.sample(CHARS_SET,CHARS_NUM))\n",
    "    cap = Captcha.generate(label)\n",
    "    img = Image.open(cap)\n",
    "    return label,np.asarray(img,dtype=np.uint8)"
   ]
  },
  {
   "cell_type": "code",
   "execution_count": 13,
   "id": "754991f2-4ea4-4171-86c1-26940af7c4ed",
   "metadata": {},
   "outputs": [],
   "source": [
    "def totfrecord2(name=\"train.tfrecord\",count=1000):\n",
    "    with tf.io.TFRecordWriter(name) as writer:\n",
    "        for _ in range(count):\n",
    "            label,image_raw = Create_captcha()\n",
    "            proto = serialize(label,image_raw)\n",
    "            writer.write(proto)"
   ]
  },
  {
   "cell_type": "code",
   "execution_count": 14,
   "id": "3e0c8618-f87d-4715-9169-5c827196ff21",
   "metadata": {},
   "outputs": [],
   "source": [
    "totfrecord2(\"train.tfrecord\",1000)"
   ]
  },
  {
   "cell_type": "code",
   "execution_count": 15,
   "id": "0314edb9-a418-422a-8993-10a716788856",
   "metadata": {},
   "outputs": [],
   "source": [
    "totfrecord2(\"test.tfrecord\",1000)"
   ]
  },
  {
   "cell_type": "markdown",
   "id": "2282a3e3-f68f-427e-8ddd-0c9fb6ef9fdf",
   "metadata": {
    "tags": []
   },
   "source": [
    "# Check TFRecord"
   ]
  },
  {
   "cell_type": "code",
   "execution_count": 16,
   "id": "b9ceeaa9-98bf-4360-99f9-062341bc6c0e",
   "metadata": {},
   "outputs": [],
   "source": [
    "image_feature_description={\n",
    "    \"Label\" : tf.io.FixedLenFeature([],tf.string),\n",
    "    \"Image_raw\" : tf.io.FixedLenFeature([],tf.string),\n",
    "}\n",
    "\n",
    "def parse_tf_example(example):\n",
    "    parse_example = tf.io.parse_single_example(example,image_feature_description)\n",
    "    image = tf.io.decode_raw(parse_example[\"Image_raw\"],tf.uint8) \n",
    "    image = tf.reshape(image,(HEIGHT,WIDTH,3))\n",
    "    label = parse_example[\"Label\"]\n",
    "    \n",
    "    return label,image"
   ]
  },
  {
   "cell_type": "code",
   "execution_count": 17,
   "id": "21ff51a2-2ff4-4b8a-88e2-bed0963eca68",
   "metadata": {
    "scrolled": true,
    "tags": []
   },
   "outputs": [],
   "source": [
    "raw_data = tf.data.TFRecordDataset(\"train.tfrecord\")\n",
    "dataset = raw_data.map(parse_tf_example)\n",
    "data_ds = dataset.shuffle(buffer_size=1000).batch(10)"
   ]
  },
  {
   "cell_type": "code",
   "execution_count": 18,
   "id": "f0eddb0b-cb77-466c-ab7b-4078d1a5ffa1",
   "metadata": {
    "scrolled": true,
    "tags": []
   },
   "outputs": [],
   "source": [
    "for batch,(x,y) in enumerate(data_ds):\n",
    "    labels = x.numpy()\n",
    "    img = y"
   ]
  },
  {
   "cell_type": "code",
   "execution_count": 19,
   "id": "9db435ba-dfc7-4a53-bb9b-97f75f82b132",
   "metadata": {},
   "outputs": [
    {
     "data": {
      "text/plain": [
       "array([b'2Jhn', b'DY5N', b'XTPL', b'zOos', b'XWrK', b'F1rW', b'D1NE',\n",
       "       b'MvLB', b'oyBj', b'kLPH'], dtype=object)"
      ]
     },
     "execution_count": 19,
     "metadata": {},
     "output_type": "execute_result"
    }
   ],
   "source": [
    "labels"
   ]
  },
  {
   "cell_type": "code",
   "execution_count": 20,
   "id": "1d4f492f-38ac-4f8a-aca8-8f0810c26aed",
   "metadata": {},
   "outputs": [
    {
     "data": {
      "text/plain": [
       "TensorShape([10, 60, 160, 3])"
      ]
     },
     "execution_count": 20,
     "metadata": {},
     "output_type": "execute_result"
    }
   ],
   "source": [
    "img.shape"
   ]
  },
  {
   "cell_type": "code",
   "execution_count": 21,
   "id": "658e2456-860a-45af-9e88-da1bdf06faf9",
   "metadata": {},
   "outputs": [
    {
     "data": {
      "text/plain": [
       "<matplotlib.image.AxesImage at 0x2359d5ad520>"
      ]
     },
     "execution_count": 21,
     "metadata": {},
     "output_type": "execute_result"
    },
    {
     "data": {
      "image/png": "[encoded data removed]",
      "text/plain": [
       "<Figure size 432x288 with 1 Axes>"
      ]
     },
     "metadata": {
      "needs_background": "light"
     },
     "output_type": "display_data"
    }
   ],
   "source": [
    "plt.imshow(img[0,...,0])"
   ]
  },
  {
   "cell_type": "code",
   "execution_count": null,
   "id": "90fa73ec-d930-4916-8a02-a006c3464fe4",
   "metadata": {},
   "outputs": [],
   "source": []
  }
 ],
 "metadata": {
  "kernelspec": {
   "display_name": "Python 3 (ipykernel)",
   "language": "python",
   "name": "python3"
  },
  "language_info": {
   "codemirror_mode": {
    "name": "ipython",
    "version": 3
   },
   "file_extension": ".py",
   "mimetype": "text/x-python",
   "name": "python",
   "nbconvert_exporter": "python",
   "pygments_lexer": "ipython3",
   "version": "3.8.12"
  }
 },
 "nbformat": 4,
 "nbformat_minor": 5
}
